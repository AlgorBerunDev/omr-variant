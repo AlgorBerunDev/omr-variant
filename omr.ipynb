{
 "cells": [
  {
   "cell_type": "code",
   "execution_count": 2,
   "id": "initial_id",
   "metadata": {
    "ExecuteTime": {
     "end_time": "2024-05-23T11:19:40.282459Z",
     "start_time": "2024-05-23T11:19:40.279329Z"
    }
   },
   "outputs": [],
   "source": [
    "# -*- coding: utf-8 -*-\n",
    "\n",
    "#from shapely.geometry import LineString\n",
    "import cv2\n",
    "import numpy as np\n",
    "from matplotlib import pyplot as plt\n",
    "import matplotlib.image as mpimg\n",
    "from cv2 import imshow as cv2_imshow\n",
    "import imutils\n",
    "import math\n",
    "import time\n",
    "start_time = time.time()\n",
    "from PIL import Image\n"
   ]
  },
  {
   "cell_type": "code",
   "execution_count": 3,
   "id": "e6dc48ce401aaee8",
   "metadata": {
    "ExecuteTime": {
     "end_time": "2024-05-23T11:19:40.311439Z",
     "start_time": "2024-05-23T11:19:40.305968Z"
    }
   },
   "outputs": [],
   "source": [
    "def wrap_document(img):\n",
    "  # Предварительная обработка изображения\n",
    "  gray = cv2.cvtColor(img, cv2.COLOR_BGR2GRAY)\n",
    "  blur = cv2.GaussianBlur(gray, (5, 5), 0)\n",
    "  edges = cv2.Canny(blur, 50, 150)\n",
    "\n",
    "  # Нахождение контуров на изображении\n",
    "  contours, _ = cv2.findContours(edges, cv2.RETR_LIST, cv2.CHAIN_APPROX_SIMPLE)\n",
    "  contours = sorted(contours, key=cv2.contourArea, reverse=True)\n",
    "\n",
    "  # Определение контура, который представляет собой лист формата A4\n",
    "  for contour in contours:\n",
    "      # Вычисление приближенного контура\n",
    "      perimeter = cv2.arcLength(contour, True)\n",
    "      approx = cv2.approxPolyDP(contour, 0.02 * perimeter, True)\n",
    "\n",
    "      # Если контур имеет 4 вершины, предполагаем, что это лист формата A4\n",
    "      if len(approx) == 4:\n",
    "          target = approx\n",
    "          break\n",
    "\n",
    "  # Применение перспективного преобразования\n",
    "  pts = target.reshape(4, 2)\n",
    "  rect = np.zeros((4, 2), dtype=\"float32\")\n",
    "\n",
    "  # Определение порядка точек: верхний левый, верхний правый, нижний правый, нижний левый\n",
    "  s = pts.sum(axis=1)\n",
    "  rect[0] = pts[np.argmin(s)]\n",
    "  rect[2] = pts[np.argmax(s)]\n",
    "\n",
    "  diff = np.diff(pts, axis=1)\n",
    "  rect[1] = pts[np.argmin(diff)]\n",
    "  rect[3] = pts[np.argmax(diff)]\n",
    "\n",
    "  # Определение ширины и высоты результирующего изображения\n",
    "  (tl, tr, br, bl) = rect\n",
    "  widthA = np.sqrt(((br[0] - bl[0]) ** 2) + ((br[1] - bl[1]) ** 2))\n",
    "  widthB = np.sqrt(((tr[0] - tl[0]) ** 2) + ((tr[1] - tl[1]) ** 2))\n",
    "  heightA = np.sqrt(((tr[0] - br[0]) ** 2) + ((tr[1] - br[1]) ** 2))\n",
    "  heightB = np.sqrt(((tl[0] - bl[0]) ** 2) + ((tl[1] - bl[1]) ** 2))\n",
    "\n",
    "  maxWidth = max(int(widthA), int(widthB))\n",
    "  maxHeight = max(int(heightA), int(heightB))\n",
    "\n",
    "  # Выполнение перспективного преобразования\n",
    "  dst = np.array([\n",
    "      [0, 0],\n",
    "      [maxWidth - 1, 0],\n",
    "      [maxWidth - 1, maxHeight - 1],\n",
    "      [0, maxHeight - 1]], dtype=\"float32\")\n",
    "\n",
    "  transformMatrix = cv2.getPerspectiveTransform(rect, dst)\n",
    "  warped = cv2.warpPerspective(img, transformMatrix, (maxWidth, maxHeight))\n",
    "\n",
    "  return warped"
   ]
  },
  {
   "cell_type": "code",
   "execution_count": 4,
   "id": "6b73ce2a8c40b930",
   "metadata": {
    "ExecuteTime": {
     "end_time": "2024-05-23T11:19:40.316264Z",
     "start_time": "2024-05-23T11:19:40.312442Z"
    }
   },
   "outputs": [],
   "source": [
    "def load_and_resize_image(image_path, width):\n",
    "    \"\"\"Загрузка и изменение размера изображения\"\"\"\n",
    "    img = cv2.imread(image_path)\n",
    "    resized_image = imutils.resize(img, width=width)\n",
    "    img_wrapped = wrap_document(resized_image)\n",
    "    return img_wrapped"
   ]
  },
  {
   "cell_type": "code",
   "execution_count": 5,
   "id": "7a0093cf5e41dc99",
   "metadata": {
    "ExecuteTime": {
     "end_time": "2024-05-23T11:19:40.356410Z",
     "start_time": "2024-05-23T11:19:40.353268Z"
    }
   },
   "outputs": [],
   "source": [
    "def preprocess_image(img):\n",
    "    \"\"\"Предварительная обработка изображения\"\"\"\n",
    "    gray = cv2.cvtColor(img, cv2.COLOR_BGR2GRAY)\n",
    "    blurred_frame = cv2.GaussianBlur(gray, (11, 11), 1)\n",
    "    canny_frame = cv2.Canny(blurred_frame, 150, 150)\n",
    "    return cv2.threshold(canny_frame, 100, 255, cv2.THRESH_BINARY + cv2.THRESH_OTSU)[1]"
   ]
  },
  {
   "cell_type": "code",
   "execution_count": 6,
   "id": "d2d6f8d167396ee8",
   "metadata": {
    "ExecuteTime": {
     "end_time": "2024-05-23T11:19:40.375903Z",
     "start_time": "2024-05-23T11:19:40.372413Z"
    }
   },
   "outputs": [],
   "source": [
    "def get_contours(thresh):\n",
    "  \"\"\"Получение контуров из изображения\"\"\"\n",
    "  cnts = cv2.findContours(thresh, cv2.RETR_EXTERNAL, cv2.CHAIN_APPROX_SIMPLE)\n",
    "  return cnts[0] if len(cnts) == 2 else cnts[1]"
   ]
  },
  {
   "cell_type": "code",
   "execution_count": 7,
   "id": "e79bcd99fe2df071",
   "metadata": {
    "ExecuteTime": {
     "end_time": "2024-05-23T11:19:40.382273Z",
     "start_time": "2024-05-23T11:19:40.377906Z"
    }
   },
   "outputs": [],
   "source": [
    "def fill_with_color(cnts, img):\n",
    "  # Создаем словарь сопоставления для числа вершин и цвета\n",
    "  color_mapping = {\n",
    "      3: (0, 255, 0),      # Зеленый = треугольник\n",
    "      4: (0, 0, 255),      # Красный = квадрат\n",
    "      5: (255, 0, 0),      # Синий = пятиугольник\n",
    "      6: (255, 255, 0),    # Голубой = шестиугольник\n",
    "      8: (255, 128, 255),  # Розовый = восьмиугольник\n",
    "  }\n",
    "\n",
    "  for cnt in cnts:\n",
    "      approx = cv2.approxPolyDP(cnt, 0.05 * cv2.arcLength(cnt, True), True)\n",
    "      vertices_count = len(approx)\n",
    "\n",
    "      # Если контур соответствует одному из ключей в словаре\n",
    "      if vertices_count in color_mapping:\n",
    "          cv2.drawContours(img, [cnt], 0, color_mapping[vertices_count], -1)\n",
    "      # Для большего числа вершин считаем контур кругом\n",
    "      elif vertices_count > 12:\n",
    "          cv2.drawContours(img, [cnt], 0, (0, 255, 255), -1)  # Желтый = круг\n",
    "\n",
    "  return img"
   ]
  },
  {
   "cell_type": "code",
   "execution_count": 8,
   "id": "76a05112278af487",
   "metadata": {
    "ExecuteTime": {
     "end_time": "2024-05-23T11:19:40.433384Z",
     "start_time": "2024-05-23T11:19:40.428802Z"
    }
   },
   "outputs": [],
   "source": [
    "def get_biggest_area_2(cnts, can_check_limit_area = False):\n",
    "    # Инициализация максимальной площади и массива для хранения наибольшего контура\n",
    "    maxArea = 0\n",
    "    biggest = []\n",
    "\n",
    "    # Перебор всех контуров\n",
    "    for i in cnts :\n",
    "        # Вычисление площади контура\n",
    "        area = cv2.contourArea(i)\n",
    "\n",
    "        # Если площадь больше 100 или разрешена проверка ограниченной области\n",
    "        if area > 100 or can_check_limit_area:\n",
    "            # Вычисление периметра контура\n",
    "            peri = cv2.arcLength(i, True)\n",
    "\n",
    "            # Приближение формы контура\n",
    "            edges = cv2.approxPolyDP(i, 0.05*peri, True)\n",
    "\n",
    "            # Если площадь больше максимальной и контур имеет 4 вершины (предположительно прямоугольник)\n",
    "            if area > maxArea and len(edges) == 4 :\n",
    "                # Обновление наибольшего контура и максимальной площади\n",
    "                biggest = edges\n",
    "                maxArea = area\n",
    "\n",
    "    # Возвращение наибольшего контура\n",
    "    return biggest"
   ]
  },
  {
   "cell_type": "code",
   "execution_count": 9,
   "id": "82b461e141fb346d",
   "metadata": {
    "ExecuteTime": {
     "end_time": "2024-05-23T11:19:40.456511Z",
     "start_time": "2024-05-23T11:19:40.452391Z"
    }
   },
   "outputs": [],
   "source": [
    "# Функция для выделения и обработки секций изображения\n",
    "def process_sections(image, coordinates):\n",
    "    sectionsMark = []\n",
    "    sectionThreshs = []\n",
    "    biggestCounters = []\n",
    "    filledSections = []\n",
    "\n",
    "    for cordination in coordinates:\n",
    "        cv2.rectangle(image, cordination[0], cordination[1], (255, 0, 0), 0)\n",
    "        top, bottom, left, right = cordination[0][1], cordination[1][1], cordination[0][0], cordination[1][0]\n",
    "        sectionsMark.append(image[top:bottom, left:right].copy())\n",
    "\n",
    "    for sectionMark in sectionsMark:\n",
    "        sectionThreshs.append(cv2.threshold(sectionMark, 0, 255, cv2.THRESH_BINARY_INV + cv2.THRESH_OTSU)[1])\n",
    "\n",
    "    for sectionThresh in sectionThreshs:\n",
    "        cnts = cv2.findContours(sectionThresh, cv2.RETR_EXTERNAL, cv2.CHAIN_APPROX_SIMPLE)\n",
    "        cnts = cnts[0] if len(cnts) == 2 else cnts[1]\n",
    "        biggest = get_biggest_area_2(cnts)\n",
    "        if len(biggest) > 0:\n",
    "            biggestArea = cv2.contourArea(biggest)\n",
    "            biggestCounters.append([biggest, biggestArea, sectionThresh])\n",
    "\n",
    "    for counter in biggestCounters:\n",
    "        resultMark = cv2.cvtColor(counter[2], cv2.COLOR_GRAY2BGR)\n",
    "        fill_with_color([counter[0]], resultMark)\n",
    "        # cv2_imshow(resultMark)\n",
    "    return biggestCounters"
   ]
  },
  {
   "cell_type": "code",
   "execution_count": 10,
   "id": "84b33b5f856e16a1",
   "metadata": {
    "ExecuteTime": {
     "end_time": "2024-05-23T11:19:40.464506Z",
     "start_time": "2024-05-23T11:19:40.460516Z"
    }
   },
   "outputs": [],
   "source": [
    "def get_extreme_points(c, extreme):\n",
    "  if extreme == 'left':\n",
    "    return tuple(c[c[:, :, 0].argmin()][0])\n",
    "  if extreme == 'right':\n",
    "    return tuple(c[c[:, :, 0].argmax()][0])\n",
    "  if extreme == 'top':\n",
    "    return tuple(c[c[:, :, 1].argmin()][0])\n",
    "  if extreme == 'bottom':\n",
    "    return tuple(c[c[:, :, 1].argmax()][0])"
   ]
  },
  {
   "cell_type": "code",
   "execution_count": 11,
   "id": "7e2eed74e75f7c2c",
   "metadata": {
    "ExecuteTime": {
     "end_time": "2024-05-23T11:19:40.483536Z",
     "start_time": "2024-05-23T11:19:40.480528Z"
    }
   },
   "outputs": [],
   "source": [
    "def calculate_point(cordinate, counter, position):\n",
    "  y = get_extreme_points(counter, position)[1]\n",
    "  x = get_extreme_points(counter, position)[0]\n",
    "  y += cordinate[1]\n",
    "  x += cordinate[0]\n",
    "  return (x, y)"
   ]
  },
  {
   "cell_type": "code",
   "execution_count": 12,
   "id": "e05eaddb14f16f03",
   "metadata": {
    "ExecuteTime": {
     "end_time": "2024-05-23T11:19:40.507393Z",
     "start_time": "2024-05-23T11:19:40.502054Z"
    }
   },
   "outputs": [],
   "source": [
    "def omr_area_coordinates(img):\n",
    "  cordinates_of_react = [\n",
    "    [(0, 210), (100, 300)], # left-1\n",
    "    [(620,210), (715,300)], # right-2\n",
    "    [(620,10), (715,100)], # right-1\n",
    "    [(620,750), (715,840)], # right-3\n",
    "    [(0,750), (100,840)], # left-2\n",
    "    [(620,850), (715,1011)] # right-4\n",
    "  ]\n",
    "\n",
    "  # Вызов функции для обработки секций изображения\n",
    "  biggest_counters = process_sections(img, cordinates_of_react)\n",
    "\n",
    "  y=get_extreme_points(biggest_counters[0][0], 'bottom')[1]\n",
    "  x=get_extreme_points(biggest_counters[0][0], 'right')[0]\n",
    "  y=y+cordinates_of_react[0][0][1]\n",
    "  x=x+cordinates_of_react[0][0][0]\n",
    "  left_top_point = (x, y) # left-1\n",
    "\n",
    "  y=get_extreme_points(biggest_counters[1][0], 'bottom')[1]\n",
    "  x=get_extreme_points(biggest_counters[1][0], 'left')[0]\n",
    "  y=y+cordinates_of_react[1][0][1]\n",
    "  x=x+cordinates_of_react[1][0][0]\n",
    "  right_top_point = (x, y) # right-2\n",
    "\n",
    "  y=get_extreme_points(biggest_counters[1][0], 'bottom')[1]\n",
    "  x=get_extreme_points(biggest_counters[1][0], 'right')[0]\n",
    "  y=y+cordinates_of_react[1][0][1]\n",
    "  x=x+cordinates_of_react[1][0][0]\n",
    "  right_top_point1 = (x, y) # right-2\n",
    "\n",
    "  y=get_extreme_points(biggest_counters[3][0], 'top')[1]\n",
    "  x=get_extreme_points(biggest_counters[3][0], 'left')[0]\n",
    "  y=y+cordinates_of_react[3][0][1]\n",
    "  x=x+cordinates_of_react[3][0][0]\n",
    "  right_bottom_point = (x, y) # right-3\n",
    "\n",
    "  y=get_extreme_points(biggest_counters[4][0], 'top')[1]\n",
    "  x=get_extreme_points(biggest_counters[4][0], 'right')[0]\n",
    "  y=y+cordinates_of_react[4][0][1]\n",
    "  x=x+cordinates_of_react[4][0][0]\n",
    "  left_bottom_point = (x, y) # left-2\n",
    "\n",
    "  min_x=left_top_point[0]\n",
    "  max_x=right_top_point[0]\n",
    "  min_y=right_top_point[1]\n",
    "  max_y=right_bottom_point[1]\n",
    "\n",
    "  return min_x, max_x, min_y, max_y"
   ]
  },
  {
   "cell_type": "code",
   "execution_count": 13,
   "id": "4a501084a020c30a",
   "metadata": {
    "ExecuteTime": {
     "end_time": "2024-05-23T11:19:40.518380Z",
     "start_time": "2024-05-23T11:19:40.515400Z"
    }
   },
   "outputs": [],
   "source": [
    "def get_counter_extreme_points(cnt):\n",
    "  left = get_extreme_points(cnt, 'left')\n",
    "  right = get_extreme_points(cnt, 'right')\n",
    "  top = get_extreme_points(cnt, 'top')\n",
    "  bottom = get_extreme_points(cnt, 'bottom')\n",
    "  return left, right, top, bottom"
   ]
  },
  {
   "cell_type": "code",
   "execution_count": 14,
   "id": "2d10e4b1a9c51a16",
   "metadata": {
    "ExecuteTime": {
     "end_time": "2024-05-23T11:19:40.523113Z",
     "start_time": "2024-05-23T11:19:40.519386Z"
    }
   },
   "outputs": [],
   "source": [
    "def calculate_enclosing_circle(cnt):\n",
    "  # Вычисление окружности, описывающей контур\n",
    "  (x,y),radius = cv2.minEnclosingCircle(cnt)\n",
    "  center = (int(x),int(y))\n",
    "  radius = int(radius)\n",
    "  return center, radius"
   ]
  },
  {
   "cell_type": "code",
   "execution_count": 15,
   "id": "89480950af3ceeb5",
   "metadata": {
    "ExecuteTime": {
     "end_time": "2024-05-23T11:19:40.534649Z",
     "start_time": "2024-05-23T11:19:40.529118Z"
    }
   },
   "outputs": [],
   "source": [
    "def get_analyze_circles_cnts(img_org, min_x, max_x, min_y, max_y):\n",
    "  img = img_org.copy()\n",
    "\n",
    "  # Преобразование изображения в оттенки серого\n",
    "  gray = cv2.cvtColor(img, cv2.COLOR_BGR2GRAY)\n",
    "\n",
    "  # Применение размытия Гаусса\n",
    "  blurred = cv2.GaussianBlur(gray, (5, 5), 0)\n",
    "\n",
    "  # Бинаризация изображения\n",
    "  _, thresh = cv2.threshold(blurred, 100, 255, cv2.THRESH_BINARY)\n",
    "\n",
    "  # Поиск контуров\n",
    "  contours, _ = cv2.findContours(thresh, cv2.RETR_TREE, cv2.CHAIN_APPROX_SIMPLE)\n",
    "  circle_counters = []\n",
    "  for cnt in contours:\n",
    "    # Вычисление моментов для определения центра масс\n",
    "    M = cv2.moments(cnt)\n",
    "\n",
    "    # Проверка, чтобы избежать деления на ноль\n",
    "    if M[\"m00\"] != 0:\n",
    "        cX = int(M[\"m10\"] / M[\"m00\"])\n",
    "        cY = int(M[\"m01\"] / M[\"m00\"])\n",
    "    else:\n",
    "        cX, cY = 0, 0\n",
    "\n",
    "    left, right, top, bottom = get_counter_extreme_points(cnt)\n",
    "\n",
    "    # Проверяем, находятся ли крайние точки внутри заданного диапазона\n",
    "    if left[0] < min_x or right[0] > max_x or top[1] < min_y or bottom[1] > max_y:\n",
    "      continue\n",
    "\n",
    "    # Вычисление соотношения сторон ограничивающего прямоугольника\n",
    "    x,y,w,h = cv2.boundingRect(cnt)\n",
    "    aspect_ratio = float(w)/h\n",
    "\n",
    "    center, radius = calculate_enclosing_circle(cnt)\n",
    "\n",
    "    # Вычисление площади контура и окружности\n",
    "    area_cnt = cv2.contourArea(cnt)\n",
    "    area_circle = np.pi * (radius**2)\n",
    "    if area_circle != 0 and area_cnt > 20:\n",
    "      if 0.7 < area_cnt/area_circle < 1.9:\n",
    "        circle_counters.append([left, right, top, bottom])\n",
    "  return circle_counters"
   ]
  },
  {
   "cell_type": "code",
   "execution_count": 16,
   "id": "2d3c0d350364d6a3",
   "metadata": {
    "ExecuteTime": {
     "end_time": "2024-05-23T11:19:40.546551Z",
     "start_time": "2024-05-23T11:19:40.543377Z"
    }
   },
   "outputs": [],
   "source": [
    "\n",
    "def analyze_circles_and_draw(img_org, counters):\n",
    "  img = img_org.copy()\n",
    "  center, radius = calculate_enclosing_circle(cnt)\n",
    "\n",
    "  # for i in counters:\n",
    "  #   cv2.circle(img, center, radius, (0,255,0), -1)\n",
    "  return img\n"
   ]
  },
  {
   "cell_type": "code",
   "execution_count": 17,
   "id": "d4e695a4da8c1997",
   "metadata": {
    "ExecuteTime": {
     "end_time": "2024-05-23T11:19:40.568233Z",
     "start_time": "2024-05-23T11:19:40.563952Z"
    }
   },
   "outputs": [],
   "source": [
    "def draw_intersect_vertical_lines(img):\n",
    "  gray = cv2.cvtColor(img, cv2.COLOR_BGR2GRAY)\n",
    "  result_omr_area_coordinates = omr_area_coordinates(gray)\n",
    "  min_x = result_omr_area_coordinates[0]\n",
    "  max_x = result_omr_area_coordinates[1]\n",
    "  min_y = result_omr_area_coordinates[2]\n",
    "  max_y = result_omr_area_coordinates[3]\n",
    "  extereme_counters = get_analyze_circles_cnts(img, min_x, max_x, min_y, max_y)\n",
    "  height = img.shape[0]\n",
    "  temp_img = img.copy()\n",
    "  for item in extereme_counters:\n",
    "    left_coordinate = item[0]\n",
    "    left_point_x = left_coordinate[0]\n",
    "    right_coordinate = item[1]\n",
    "    right_point_x = right_coordinate[0]\n",
    "    start_point = (left_point_x, 0)\n",
    "    end_point = (right_point_x, height)\n",
    "    temp_img = cv2.rectangle(temp_img, start_point, end_point, (0,250,0), -1)\n",
    "  cv2_imshow(temp_img)"
   ]
  },
  {
   "cell_type": "code",
   "execution_count": 18,
   "id": "787e41bd75327c2d",
   "metadata": {
    "ExecuteTime": {
     "end_time": "2024-05-23T11:19:40.578060Z",
     "start_time": "2024-05-23T11:19:40.574238Z"
    }
   },
   "outputs": [],
   "source": [
    "def draw_intersect_horizontal_lines(img):\n",
    "  gray = cv2.cvtColor(img, cv2.COLOR_BGR2GRAY)\n",
    "  min_x, max_x, min_y, max_y = omr_area_coordinates(gray)\n",
    "  extereme_counters = get_analyze_circles_cnts(img, min_x, max_x, min_y, max_y)\n",
    "  width = img.shape[1]\n",
    "  temp_img = img.copy()\n",
    "  for item in extereme_counters:\n",
    "    top_coordinate = item[2]\n",
    "    top_point_y = top_coordinate[1]\n",
    "    bottom_coordinate = item[3]\n",
    "    bottom_point_y = bottom_coordinate[1]\n",
    "    start_point = (0, top_point_y)\n",
    "    end_point = (width, bottom_point_y)\n",
    "    temp_img = cv2.rectangle(temp_img, start_point, end_point, (0,250,0), -1)\n",
    "  cv2_imshow(temp_img)"
   ]
  },
  {
   "cell_type": "code",
   "execution_count": 19,
   "id": "ac9f2e67ffed0654",
   "metadata": {
    "ExecuteTime": {
     "end_time": "2024-05-23T11:19:40.645185Z",
     "start_time": "2024-05-23T11:19:40.596578Z"
    }
   },
   "outputs": [],
   "source": [
    "img = load_and_resize_image(\"5.jpg\", 720)\n",
    "original = img.copy()\n",
    "thresh = preprocess_image(img)\n",
    "cnts = get_contours(thresh)"
   ]
  },
  {
   "cell_type": "code",
   "execution_count": 20,
   "id": "ac8a958a1663faa3",
   "metadata": {
    "ExecuteTime": {
     "end_time": "2024-05-23T11:19:40.653999Z",
     "start_time": "2024-05-23T11:19:40.646191Z"
    }
   },
   "outputs": [],
   "source": [
    "# Преобразование изображения из цветного в оттенки серого\n",
    "gray = cv2.cvtColor(original, cv2.COLOR_BGR2GRAY)\n",
    "\n",
    "# Применение порогового фильтра к изображению в оттенках серого\n",
    "# cv2.THRESH_BINARY_INV инвертирует результирующее бинарное изображение\n",
    "# cv2.THRESH_OTSU автоматически вычисляет оптимальное значение порога\n",
    "thresh = cv2.threshold(gray, 0, 255, cv2.THRESH_BINARY_INV + cv2.THRESH_OTSU)[1]\n",
    "\n",
    "# Инициализация номера области интереса (Region of Interest, ROI)\n",
    "ROI_number = 0\n",
    "\n",
    "# Поиск контуров на бинаризованном изображении\n",
    "# cv2.RETR_EXTERNAL используется для извлечения только внешних контуров\n",
    "# cv2.CHAIN_APPROX_SIMPLE удаляет все избыточные точки и сжимает контур, тем самым экономя память\n",
    "cnts = cv2.findContours(thresh, cv2.RETR_EXTERNAL, cv2.CHAIN_APPROX_SIMPLE)\n",
    "\n",
    "# В зависимости от версии OpenCV, findContours возвращает разное количество объектов.\n",
    "# Это условие обеспечивает совместимость кода с разными версиями OpenCV.\n",
    "cnts = cnts[0] if len(cnts) == 2 else cnts[1]"
   ]
  },
  {
   "cell_type": "code",
   "execution_count": 21,
   "id": "ed7c6f4ec7bee80d",
   "metadata": {
    "ExecuteTime": {
     "end_time": "2024-05-23T11:19:40.658307Z",
     "start_time": "2024-05-23T11:19:40.655007Z"
    }
   },
   "outputs": [],
   "source": [
    "all_center_cnts = []"
   ]
  },
  {
   "cell_type": "code",
   "execution_count": 22,
   "id": "b1250561009a9bb7",
   "metadata": {
    "ExecuteTime": {
     "end_time": "2024-05-23T11:19:41.277866Z",
     "start_time": "2024-05-23T11:19:40.659314Z"
    }
   },
   "outputs": [
    {
     "name": "stdout",
     "output_type": "stream",
     "text": [
      "Общее время выполнения: 0.05 секунд\n",
      "Общее время выполнения: 0.04 секунд\n",
      "Общее время выполнения: 0.05 секунд\n",
      "Общее время выполнения: 0.05 секунд\n",
      "Общее время выполнения: 0.04 секунд\n",
      "Общее время выполнения: 0.04 секунд\n",
      "Общее время выполнения: 0.05 секунд\n",
      "Общее время выполнения: 0.04 секунд\n",
      "Общее время выполнения: 0.04 секунд\n",
      "Общее время выполнения: 0.04 секунд\n",
      "Общее время выполнения: 0.04 секунд\n",
      "Общее время выполнения: 0.04 секунд\n",
      "Общее время выполнения: 0.04 секунд\n",
      "Общее время выполнения: 0.04 секунд\n"
     ]
    }
   ],
   "source": [
    "start_time=time.time()\n",
    "for i in range(1,15):\n",
    "  img = load_and_resize_image(f\"5.jpg\", 720)\n",
    "\n",
    "  original = img.copy()\n",
    "  thresh = preprocess_image(img)\n",
    "  cnts = get_contours(thresh)\n",
    "  # draw_intersect_vertical_lines(original)\n",
    "  gray = cv2.cvtColor(original.copy(), cv2.COLOR_BGR2GRAY)\n",
    "  result_omr_area_coordinates = omr_area_coordinates(gray)\n",
    "  min_x = result_omr_area_coordinates[0]\n",
    "  max_x = result_omr_area_coordinates[1]\n",
    "  min_y = result_omr_area_coordinates[2]\n",
    "  max_y = result_omr_area_coordinates[3]\n",
    "  finded_circles_counters = get_analyze_circles_cnts(original, min_x, max_x, min_y, max_y)\n",
    "  cv2.circle(original, (min_x, min_y), 3, (0,255,0), -1)\n",
    "  cv2.circle(original, (max_x, min_y), 3, (0,255,0), -1)\n",
    "  cv2.line(original, (max_x - 117, min_y), (max_x - 117, max_y), (0,255,0), 1)\n",
    "  cv2.line(original, (max_x - 117*2, min_y), (max_x - 117*2, max_y), (0,255,0), 1)\n",
    "  cv2.line(original, (max_x - 117*3, min_y), (max_x - 117*3, max_y), (0,255,0), 1)\n",
    "  cv2.line(original, (max_x - 117*4, min_y), (max_x - 117*4, max_y), (0,255,0), 1)\n",
    "  for cnt in finded_circles_counters:\n",
    "    points = cnt\n",
    "    cnt = np.array([list(p) for p in points], dtype=np.int32).reshape((-1, 1, 2))\n",
    "    center, radius = calculate_enclosing_circle(cnt)\n",
    "    cv2.circle(original, center, radius, (0,255,0), -1)\n",
    "    # all_center_cnts.append(center)\n",
    "  # cv2_imshow(original)\n",
    "  # cv2.rectangle(original, (70, 300), (160,490), (0,250,0), 2)\n",
    "  # cv2.rectangle(original, (190, 300), (285,490), (0,250,0), 2)\n",
    "  # cv2.rectangle(original, (310, 300), (405,490), (0,250,0), 2)\n",
    "  # cv2.rectangle(original, (435, 300), (530,774), (0,250,0), 2)\n",
    "  # cv2.rectangle(original, (560, 300), (660,774), (0,250,0), 2)\n",
    "  total_time = time.time() - start_time\n",
    "  print(\"Общее время выполнения: {:.2f} секунд\".format(total_time))\n",
    "  start_time = time.time()\n",
    "  for center in all_center_cnts:\n",
    "    cv2.circle(original, center, 4, (0,255,255), -1)\n",
    "    cv2_imshow(original)\n"
   ]
  },
  {
   "cell_type": "code",
   "execution_count": 23,
   "id": "3dfefd4de2133864",
   "metadata": {
    "ExecuteTime": {
     "end_time": "2024-05-23T11:19:41.864166Z",
     "start_time": "2024-05-23T11:19:41.278870Z"
    }
   },
   "outputs": [
    {
     "name": "stdout",
     "output_type": "stream",
     "text": [
      "15\n",
      "[154.0, 414.0, 446.0, 727.0, 921.0, 963.5, 1112.5, 1532.5, 1706.5, 1759.0, 8059.5, 9114.5, 9566.5, 26493.0, 26618.0]\n",
      "15\n",
      "[154.0, 414.0, 446.0, 727.0, 921.0, 963.5, 1112.5, 1532.5, 1706.5, 1759.0, 8059.5, 9114.5, 9566.5, 26493.0, 26618.0]\n",
      "15\n",
      "[154.0, 414.0, 446.0, 727.0, 921.0, 963.5, 1112.5, 1532.5, 1706.5, 1759.0, 8059.5, 9114.5, 9566.5, 26493.0, 26618.0]\n",
      "15\n",
      "[154.0, 414.0, 446.0, 727.0, 921.0, 963.5, 1112.5, 1532.5, 1706.5, 1759.0, 8059.5, 9114.5, 9566.5, 26493.0, 26618.0]\n",
      "15\n",
      "[154.0, 414.0, 446.0, 727.0, 921.0, 963.5, 1112.5, 1532.5, 1706.5, 1759.0, 8059.5, 9114.5, 9566.5, 26493.0, 26618.0]\n",
      "15\n",
      "[154.0, 414.0, 446.0, 727.0, 921.0, 963.5, 1112.5, 1532.5, 1706.5, 1759.0, 8059.5, 9114.5, 9566.5, 26493.0, 26618.0]\n",
      "15\n",
      "[154.0, 414.0, 446.0, 727.0, 921.0, 963.5, 1112.5, 1532.5, 1706.5, 1759.0, 8059.5, 9114.5, 9566.5, 26493.0, 26618.0]\n",
      "15\n",
      "[154.0, 414.0, 446.0, 727.0, 921.0, 963.5, 1112.5, 1532.5, 1706.5, 1759.0, 8059.5, 9114.5, 9566.5, 26493.0, 26618.0]\n",
      "15\n",
      "[154.0, 414.0, 446.0, 727.0, 921.0, 963.5, 1112.5, 1532.5, 1706.5, 1759.0, 8059.5, 9114.5, 9566.5, 26493.0, 26618.0]\n",
      "15\n",
      "[154.0, 414.0, 446.0, 727.0, 921.0, 963.5, 1112.5, 1532.5, 1706.5, 1759.0, 8059.5, 9114.5, 9566.5, 26493.0, 26618.0]\n",
      "15\n",
      "[154.0, 414.0, 446.0, 727.0, 921.0, 963.5, 1112.5, 1532.5, 1706.5, 1759.0, 8059.5, 9114.5, 9566.5, 26493.0, 26618.0]\n",
      "15\n",
      "[154.0, 414.0, 446.0, 727.0, 921.0, 963.5, 1112.5, 1532.5, 1706.5, 1759.0, 8059.5, 9114.5, 9566.5, 26493.0, 26618.0]\n",
      "15\n",
      "[154.0, 414.0, 446.0, 727.0, 921.0, 963.5, 1112.5, 1532.5, 1706.5, 1759.0, 8059.5, 9114.5, 9566.5, 26493.0, 26618.0]\n",
      "15\n",
      "[154.0, 414.0, 446.0, 727.0, 921.0, 963.5, 1112.5, 1532.5, 1706.5, 1759.0, 8059.5, 9114.5, 9566.5, 26493.0, 26618.0]\n",
      "Общее время выполнения: 0.59 секунд\n"
     ]
    }
   ],
   "source": [
    "start_ends = []\n",
    "for i in range(1,15):\n",
    "  img = load_and_resize_image(f\"5.jpg\", 720)\n",
    "\n",
    "  gray = cv2.cvtColor(img, cv2.COLOR_BGR2GRAY)\n",
    "  # blurred_frame = cv2.GaussianBlur(gray, (11, 11), 1)\n",
    "  canny_frame = cv2.Canny(gray, 150, 150)\n",
    "  # cv2_imshow(gray)\n",
    "  # cv2_imshow(blurred_frame)\n",
    "  # cv2_imshow(canny_frame)\n",
    "\n",
    "  result_omr_area_coordinates = omr_area_coordinates(gray)\n",
    "  min_x = result_omr_area_coordinates[0]\n",
    "  max_x = result_omr_area_coordinates[1]\n",
    "  min_y = result_omr_area_coordinates[2]\n",
    "  max_y = result_omr_area_coordinates[3]\n",
    "\n",
    "  # Бинаризация изображения\n",
    "  _, thresh = cv2.threshold(canny_frame, 100, 255, cv2.THRESH_BINARY_INV)\n",
    "  # Создайте ядро для дилатации\n",
    "  kernel = np.ones((3,7), np.uint8)\n",
    "\n",
    "  erosion = cv2.erode(gray, kernel, iterations=3)\n",
    "  # cv2_imshow(erosion)\n",
    "  _, thresh = cv2.threshold(erosion, 120, 255, cv2.THRESH_BINARY)\n",
    "  # cv2_imshow(thresh)\n",
    "  blurred_frame = cv2.GaussianBlur(thresh, (11, 11), 12)\n",
    "  blurred_frame = cv2.GaussianBlur(blurred_frame, (11, 11), 20)\n",
    "  kernel = np.ones((15,10), np.uint8)\n",
    "  erosion = cv2.erode(blurred_frame, kernel, iterations=1)\n",
    "  _, thresh = cv2.threshold(erosion, 120, 255, cv2.THRESH_BINARY_INV)\n",
    "  # cv2_imshow(thresh)\n",
    "  contours, _ = cv2.findContours(thresh, cv2.RETR_EXTERNAL, cv2.CHAIN_APPROX_SIMPLE)\n",
    "  new_contours = []\n",
    "  for cnt in contours:\n",
    "    left, right, top, bottom = get_counter_extreme_points(cnt)\n",
    "\n",
    "    # Проверяем, находятся ли крайние точки внутри заданного диапазона\n",
    "    if left[0] < min_x or right[0] > max_x or top[1] < min_y or bottom[1] > max_y:\n",
    "      continue\n",
    "    new_contours.append(cnt)\n",
    "  contours = new_contours\n",
    "  print(len(contours))\n",
    "\n",
    "  areas = []\n",
    "  new_contrours = []\n",
    "  start_end = []\n",
    "  for cnt in contours:\n",
    "    area_cnt = cv2.contourArea(cnt)\n",
    "    areas.append(area_cnt)\n",
    "\n",
    "    if area_cnt < 5000:\n",
    "      continue\n",
    "\n",
    "    left, right, top, bottom = get_counter_extreme_points(cnt)\n",
    "\n",
    "    if min_y + (max_y - min_y)/2 < top[1]:\n",
    "      continue\n",
    "\n",
    "    cv2.rectangle(img, (left[0], top[1]), (right[0], bottom[1]), (0, 255, 0), 2)\n",
    "    start_end.append([left[0], right[0]])\n",
    "    # cv2.drawContours(img, [cnt], -1, (0,255,0), 1)\n",
    "  start_ends.append(start_end)\n",
    "  print(sorted(areas))\n",
    "  ppp = [[69, 170],\n",
    "  [187, 287],\n",
    "  [296, 409],\n",
    "  [424, 534],\n",
    "  [540, 656]]\n",
    "  height, width = img.shape[:2]\n",
    "  for left, right in ppp:\n",
    "    cv2.rectangle(img, (left, 0), (right, height), (0, 255, 255), 2)\n",
    "    #cv2_imshow(img)\n",
    "total_time = time.time() - start_time\n",
    "print(\"Общее время выполнения: {:.2f} секунд\".format(total_time))\n"
   ]
  },
  {
   "cell_type": "code",
   "execution_count": 24,
   "outputs": [],
   "source": [
    "def is_square(cnt):\n",
    "  # Аппроксимируем контур\n",
    "  epsilon = 0.02 * cv2.arcLength(cnt, True)\n",
    "  approx = cnt\n",
    "  # Если аппроксимированный контур имеет 4 вершины, это может быть квадрат или прямоугольник\n",
    "  if len(approx) == 4:\n",
    "      # Вычисляем площадь контура\n",
    "      area = cv2.contourArea(cnt)\n",
    "\n",
    "      # Вычисляем площадь ограничивающего прямоугольника\n",
    "      x, y, w, h = cv2.boundingRect(approx)\n",
    "      rect_area = w * h\n",
    "\n",
    "      # Соотношение площадей\n",
    "      area_ratio = area / rect_area\n",
    "\n",
    "      # Соотношение сторон\n",
    "      aspect_ratio = float(w) / h\n",
    "\n",
    "      # Проверяем близость соотношений к 1\n",
    "      if 0.95 < area_ratio < 1.05 and 0.95 < aspect_ratio < 1.05:\n",
    "          # Проверяем равенство длин сторон\n",
    "          (x1, y1), (x2, y2), (x3, y3), (x4, y4) = approx.ravel()\n",
    "          edges = [cv2.norm((x1 - x2, y1 - y2)), cv2.norm((x2 - x3, y2 - y3)),\n",
    "                    cv2.norm((x3 - x4, y3 - y4)), cv2.norm((x4 - x1, y4 - y1))]\n",
    "\n",
    "          # Проверяем, все ли стороны примерно равны\n",
    "          if max(edges) / min(edges) < 1.7:\n",
    "              return True\n",
    "              # Здесь может быть ваш код для обработки \"квадратного\" контура\n",
    "  return True"
   ],
   "metadata": {
    "collapsed": false,
    "ExecuteTime": {
     "end_time": "2024-05-23T11:19:41.871380Z",
     "start_time": "2024-05-23T11:19:41.865247Z"
    }
   },
   "id": "4aecd49d9bc46dcf"
  },
  {
   "cell_type": "code",
   "execution_count": 25,
   "outputs": [
    {
     "name": "stdout",
     "output_type": "stream",
     "text": [
      "Общее время выполнения: 0.59 секунд\n"
     ]
    }
   ],
   "source": [
    "for i in range(1,15):\n",
    "  img = load_and_resize_image(f\"5.jpg\", 720)\n",
    "\n",
    "  gray = cv2.cvtColor(img, cv2.COLOR_BGR2GRAY)\n",
    "  # blurred_frame = cv2.GaussianBlur(gray, (11, 11), 1)\n",
    "  canny_frame = cv2.Canny(gray, 150, 150)\n",
    "  _, thresh = cv2.threshold(canny_frame, 100, 255, cv2.THRESH_BINARY_INV)\n",
    "  kernel = np.ones((5,1), np.uint8)\n",
    "\n",
    "  erosion = cv2.erode(gray, kernel, iterations=3)\n",
    "  kernel = np.ones((0,0), np.uint8)\n",
    "  erosion = cv2.erode(erosion, kernel, iterations=1)\n",
    "  _, thresh = cv2.threshold(erosion, 120, 255, cv2.THRESH_BINARY_INV)\n",
    "  #cv2_imshow(thresh)\n",
    "  continue\n",
    "  contours, _ = cv2.findContours(thresh, cv2.RETR_TREE, cv2.CHAIN_APPROX_SIMPLE)\n",
    "  list_cnt_area = []\n",
    "  for contour in contours:\n",
    "    # Приближаем контуры с помощью многоугольников\n",
    "    epsilon = 0.05 * cv2.arcLength(contour, True)\n",
    "    approx = cv2.approxPolyDP(contour, epsilon, True)\n",
    "\n",
    "    # Если контур имеет 4 вершины, возможно, это прямоугольник\n",
    "    if len(approx) == 4:\n",
    "        # Проверим является ли фигура выпуклой\n",
    "        if cv2.isContourConvex(approx):\n",
    "            area_cnt = cv2.contourArea(approx)\n",
    "            if area_cnt < 500 and area_cnt > 300:\n",
    "                if is_square(approx):\n",
    "                    list_cnt_area.append(area_cnt)\n",
    "                    cv2.drawContours(img, [approx], 0, (0, 255, 0), 1)\n",
    "  print(sorted(list_cnt_area, reverse=True))\n",
    "  print(img)\n",
    "print(\"Общее время выполнения: {:.2f} секунд\".format(total_time))\n"
   ],
   "metadata": {
    "collapsed": false,
    "ExecuteTime": {
     "end_time": "2024-05-23T11:19:42.441226Z",
     "start_time": "2024-05-23T11:19:41.872385Z"
    }
   },
   "id": "a3588b1db28f6a96"
  },
  {
   "cell_type": "code",
   "execution_count": 26,
   "outputs": [
    {
     "name": "stdout",
     "output_type": "stream",
     "text": [
      "[[72, 156], [189, 274], [309, 393], [425, 513], [544, 632]]\n",
      "[72, 156]\n",
      "[189, 274]\n",
      "[309, 393]\n",
      "[425, 513]\n",
      "[544, 632]\n"
     ]
    }
   ],
   "source": [
    "# print(start_ends.copy())\n",
    "cp_start_ends = start_ends.copy()\n",
    "block_1 = []\n",
    "block_2 = []\n",
    "block_3 = []\n",
    "block_4 = []\n",
    "block_5 = []\n",
    "print(sorted(start_end, key=lambda x: x[0]))\n",
    "for start_end in cp_start_ends:\n",
    "  sorted_start_end = sorted(start_end, key=lambda x: x[0])\n",
    "  block_1.append(sorted_start_end[0])\n",
    "  block_2.append(sorted_start_end[1])\n",
    "  block_3.append(sorted_start_end[2])\n",
    "  block_4.append(sorted_start_end[3])\n",
    "  block_5.append(sorted_start_end[4])\n",
    "\n",
    "print([min(block_1, key=lambda x: x[0])[0], max(block_1, key=lambda x: x[1])[1]])\n",
    "print([min(block_2, key=lambda x: x[0])[0], max(block_2, key=lambda x: x[1])[1]])\n",
    "print([min(block_3, key=lambda x: x[0])[0], max(block_3, key=lambda x: x[1])[1]])\n",
    "print([min(block_4, key=lambda x: x[0])[0], max(block_4, key=lambda x: x[1])[1]])\n",
    "print([min(block_5, key=lambda x: x[0])[0], max(block_5, key=lambda x: x[1])[1]])\n"
   ],
   "metadata": {
    "collapsed": false,
    "ExecuteTime": {
     "end_time": "2024-05-23T11:19:42.451341Z",
     "start_time": "2024-05-23T11:19:42.442241Z"
    }
   },
   "id": "4e5d9070d23badf8"
  },
  {
   "cell_type": "code",
   "execution_count": 27,
   "outputs": [],
   "source": [
    "def find_rect_cnts(thresh):\n",
    "  contours, _ = cv2.findContours(thresh, cv2.RETR_TREE, cv2.CHAIN_APPROX_SIMPLE)\n",
    "  finded_rects = []\n",
    "  for cnt in contours:\n",
    "      # Аппроксимируем контур\n",
    "      epsilon = 0.02 * cv2.arcLength(cnt, True)\n",
    "      approx = cv2.approxPolyDP(cnt, epsilon, True)\n",
    "\n",
    "      # Если аппроксимированный контур имеет 4 вершины, это может быть квадрат или прямоугольник\n",
    "      if len(approx) == 4:\n",
    "          finded_rects.append(cnt)\n",
    "  return finded_rects"
   ],
   "metadata": {
    "collapsed": false,
    "ExecuteTime": {
     "end_time": "2024-05-23T11:19:42.457650Z",
     "start_time": "2024-05-23T11:19:42.453360Z"
    }
   },
   "id": "79c17368437f6de1"
  },
  {
   "cell_type": "code",
   "execution_count": 28,
   "outputs": [],
   "source": [
    "def get_left_max_vertical_cnt(img):\n",
    "  gray = cv2.cvtColor(img, cv2.COLOR_BGR2GRAY)\n",
    "  # blurred_frame = cv2.GaussianBlur(gray, (11, 11), 1)\n",
    "  canny_frame = cv2.Canny(gray, 150, 150)\n",
    "  _, thresh = cv2.threshold(canny_frame, 100, 255, cv2.THRESH_BINARY_INV)\n",
    "  kernel = np.ones((4,1), np.uint8)\n",
    "\n",
    "  erosion = cv2.erode(gray, kernel, iterations=3)\n",
    "  kernel = np.ones((0,0), np.uint8)\n",
    "  erosion = cv2.erode(erosion, kernel, iterations=1)\n",
    "  _, thresh = cv2.threshold(erosion, 120, 255, cv2.THRESH_BINARY_INV)\n",
    "  contours, _ = cv2.findContours(thresh, cv2.RETR_TREE, cv2.CHAIN_APPROX_SIMPLE)\n",
    "\n",
    "  all_rect_cnts = contours\n",
    "  # Сортировать контуры по убыванию высоты (получить прямоугольники и вытащить высоту)\n",
    "  sorted_cnts_by_height = sorted(all_rect_cnts, key=lambda cnt: cv2.boundingRect(cnt)[3], reverse=True)\n",
    "\n",
    "  # Взять первые пять контуров после сортировки\n",
    "  top_5_height_contours = sorted_cnts_by_height[:5]\n",
    "\n",
    "  # Теперь найти контур с максимальной площадью среди этих пяти\n",
    "  max_area = 0\n",
    "  max_area_contour = None\n",
    "\n",
    "  for cnt in top_5_height_contours:\n",
    "      area = cv2.contourArea(cnt)\n",
    "      if area > max_area:\n",
    "          max_area = area\n",
    "          max_area_contour = cnt\n",
    "  return max_area_contour\n",
    "def remove_without_section_marks(img):\n",
    "    max_area_contour = get_left_max_vertical_cnt(img)\n",
    "\n",
    "    left, right, top, bottom = get_counter_extreme_points(max_area_contour)\n",
    "    min_y = top[1] - 10\n",
    "    max_y = bottom[1] + 10\n",
    "    min_x = right[0]\n",
    "    # Получите размеры изображения\n",
    "    height, width = img.shape[:2]\n",
    "\n",
    "    # Создайте маску, полностью заполненную нулями (черный цвет)\n",
    "    mask = np.ones_like(img) * 0\n",
    "\n",
    "    # Заполните область между min_y и max_y белым цветом\n",
    "    mask[min_y:max_y, min_x:width] = (255,255,255)\n",
    "\n",
    "    # Примените маску к изображению, чтобы оставить только область внутри min_y и max_y\n",
    "    result = cv2.bitwise_and(img, mask)\n",
    "    cv2.imshow('mask', mask)\n",
    "    return result\n",
    "def analyze_variant_columns(img):\n",
    "  gray = cv2.cvtColor(img, cv2.COLOR_BGR2GRAY)\n",
    "  # blurred_frame = cv2.GaussianBlur(gray, (11, 11), 1)\n",
    "  canny_frame = cv2.Canny(gray, 150, 150)\n",
    "  _, thresh = cv2.threshold(canny_frame, 100, 255, cv2.THRESH_BINARY_INV)\n",
    "  kernel = np.ones((2,2), np.uint8)\n",
    "\n",
    "  erosion = cv2.erode(gray, kernel, iterations=3)\n",
    "  kernel = np.ones((0,4), np.uint8)\n",
    "  erosion = cv2.erode(erosion, kernel, iterations=1)\n",
    "  _, thresh = cv2.threshold(erosion, 120, 255, cv2.THRESH_BINARY)\n",
    "  cv2_imshow('thresh: ', thresh)\n",
    "  # finded_rects = find_rect_cnts(thresh)\n",
    "  # for cnt in finded_rects:\n",
    "  #   cv2.drawContours(img, [cnt], 0, (0, 255, 255), -1)\n",
    "cv2_imshow('img analyze_variant_columns func: ', img)\n",
    "\n",
    "for i in range(1,15):\n",
    "    img = load_and_resize_image(f\"5.jpg\", 720)\n",
    "    result_img = remove_without_section_marks(img)\n",
    "    cv2_imshow('result: ' ,result_img)\n",
    "    \n",
    "analyze_variant_columns(result_img)"
   ],
   "metadata": {
    "collapsed": false,
    "ExecuteTime": {
     "end_time": "2024-05-23T11:19:43.894157Z",
     "start_time": "2024-05-23T11:19:42.458661Z"
    }
   },
   "id": "bb70ea0a16fabd50"
  },
  {
   "cell_type": "code",
   "execution_count": 28,
   "outputs": [],
   "source": [],
   "metadata": {
    "collapsed": false,
    "ExecuteTime": {
     "end_time": "2024-05-23T11:19:43.901359Z",
     "start_time": "2024-05-23T11:19:43.897165Z"
    }
   },
   "id": "2fede659581f9208"
  },
  {
   "cell_type": "code",
   "execution_count": 28,
   "outputs": [],
   "source": [],
   "metadata": {
    "collapsed": false,
    "ExecuteTime": {
     "end_time": "2024-05-23T11:19:43.907249Z",
     "start_time": "2024-05-23T11:19:43.903370Z"
    }
   },
   "id": "6afbb38c8596c2e9"
  },
  {
   "cell_type": "code",
   "execution_count": 28,
   "outputs": [],
   "source": [],
   "metadata": {
    "collapsed": false,
    "ExecuteTime": {
     "end_time": "2024-05-23T11:19:43.914420Z",
     "start_time": "2024-05-23T11:19:43.911258Z"
    }
   },
   "id": "adccc048a2ebe6f4"
  }
 ],
 "metadata": {
  "kernelspec": {
   "display_name": "Python 3 (ipykernel)",
   "language": "python",
   "name": "python3"
  },
  "language_info": {
   "codemirror_mode": {
    "name": "ipython",
    "version": 3
   },
   "file_extension": ".py",
   "mimetype": "text/x-python",
   "name": "python",
   "nbconvert_exporter": "python",
   "pygments_lexer": "ipython3",
   "version": "3.9.13"
  }
 },
 "nbformat": 4,
 "nbformat_minor": 5
}
